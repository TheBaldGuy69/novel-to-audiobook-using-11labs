{
  "cells": [
    {
      "cell_type": "code",
      "source": [
        "import os"
      ],
      "metadata": {
        "id": "YeBCnsalL5rY"
      },
      "execution_count": 231,
      "outputs": []
    },
    {
      "cell_type": "code",
      "source": [
        "!pip install EbookLib beautifulsoup4 lxml\n",
        "from ebooklib import epub\n",
        "from bs4 import BeautifulSoup"
      ],
      "metadata": {
        "colab": {
          "base_uri": "https://localhost:8080/",
          "height": 0
        },
        "id": "VEYOryDFcBPm",
        "outputId": "7dc8c149-82d1-41ec-cc46-cd7995e10370"
      },
      "execution_count": 232,
      "outputs": [
        {
          "output_type": "stream",
          "name": "stdout",
          "text": [
            "Requirement already satisfied: EbookLib in /usr/local/lib/python3.11/dist-packages (0.18)\n",
            "Requirement already satisfied: beautifulsoup4 in /usr/local/lib/python3.11/dist-packages (4.12.3)\n",
            "Requirement already satisfied: lxml in /usr/local/lib/python3.11/dist-packages (5.3.0)\n",
            "Requirement already satisfied: six in /usr/local/lib/python3.11/dist-packages (from EbookLib) (1.17.0)\n",
            "Requirement already satisfied: soupsieve>1.2 in /usr/local/lib/python3.11/dist-packages (from beautifulsoup4) (2.6)\n"
          ]
        }
      ]
    },
    {
      "cell_type": "code",
      "execution_count": 233,
      "metadata": {
        "id": "vyt-6sk2VsIP",
        "colab": {
          "base_uri": "https://localhost:8080/",
          "height": 0
        },
        "outputId": "aa029b1f-4539-46ea-a8c7-90b3b6ddcf32"
      },
      "outputs": [
        {
          "output_type": "stream",
          "name": "stdout",
          "text": [
            "Requirement already satisfied: mira-sdk in /usr/local/lib/python3.11/dist-packages (0.1.14)\n",
            "Requirement already satisfied: pyyaml>=6.0.2 in /usr/local/lib/python3.11/dist-packages (from mira-sdk) (6.0.2)\n",
            "Requirement already satisfied: requests>=2.32.3 in /usr/local/lib/python3.11/dist-packages (from mira-sdk) (2.32.3)\n",
            "Requirement already satisfied: semantic-version>=2.10.0 in /usr/local/lib/python3.11/dist-packages (from mira-sdk) (2.10.0)\n",
            "Requirement already satisfied: aiohttp>=3.10.10 in /usr/local/lib/python3.11/dist-packages (from mira-sdk) (3.11.11)\n",
            "Requirement already satisfied: pytest-asyncio>=0.24.0 in /usr/local/lib/python3.11/dist-packages (from mira-sdk) (0.25.2)\n",
            "Requirement already satisfied: pydantic>=2.10.4 in /usr/local/lib/python3.11/dist-packages (from mira-sdk) (2.10.5)\n",
            "Requirement already satisfied: aiohappyeyeballs>=2.3.0 in /usr/local/lib/python3.11/dist-packages (from aiohttp>=3.10.10->mira-sdk) (2.4.4)\n",
            "Requirement already satisfied: aiosignal>=1.1.2 in /usr/local/lib/python3.11/dist-packages (from aiohttp>=3.10.10->mira-sdk) (1.3.2)\n",
            "Requirement already satisfied: attrs>=17.3.0 in /usr/local/lib/python3.11/dist-packages (from aiohttp>=3.10.10->mira-sdk) (24.3.0)\n",
            "Requirement already satisfied: frozenlist>=1.1.1 in /usr/local/lib/python3.11/dist-packages (from aiohttp>=3.10.10->mira-sdk) (1.5.0)\n",
            "Requirement already satisfied: multidict<7.0,>=4.5 in /usr/local/lib/python3.11/dist-packages (from aiohttp>=3.10.10->mira-sdk) (6.1.0)\n",
            "Requirement already satisfied: propcache>=0.2.0 in /usr/local/lib/python3.11/dist-packages (from aiohttp>=3.10.10->mira-sdk) (0.2.1)\n",
            "Requirement already satisfied: yarl<2.0,>=1.17.0 in /usr/local/lib/python3.11/dist-packages (from aiohttp>=3.10.10->mira-sdk) (1.18.3)\n",
            "Requirement already satisfied: annotated-types>=0.6.0 in /usr/local/lib/python3.11/dist-packages (from pydantic>=2.10.4->mira-sdk) (0.7.0)\n",
            "Requirement already satisfied: pydantic-core==2.27.2 in /usr/local/lib/python3.11/dist-packages (from pydantic>=2.10.4->mira-sdk) (2.27.2)\n",
            "Requirement already satisfied: typing-extensions>=4.12.2 in /usr/local/lib/python3.11/dist-packages (from pydantic>=2.10.4->mira-sdk) (4.12.2)\n",
            "Requirement already satisfied: pytest<9,>=8.2 in /usr/local/lib/python3.11/dist-packages (from pytest-asyncio>=0.24.0->mira-sdk) (8.3.4)\n",
            "Requirement already satisfied: charset-normalizer<4,>=2 in /usr/local/lib/python3.11/dist-packages (from requests>=2.32.3->mira-sdk) (3.4.1)\n",
            "Requirement already satisfied: idna<4,>=2.5 in /usr/local/lib/python3.11/dist-packages (from requests>=2.32.3->mira-sdk) (3.10)\n",
            "Requirement already satisfied: urllib3<3,>=1.21.1 in /usr/local/lib/python3.11/dist-packages (from requests>=2.32.3->mira-sdk) (2.3.0)\n",
            "Requirement already satisfied: certifi>=2017.4.17 in /usr/local/lib/python3.11/dist-packages (from requests>=2.32.3->mira-sdk) (2024.12.14)\n",
            "Requirement already satisfied: iniconfig in /usr/local/lib/python3.11/dist-packages (from pytest<9,>=8.2->pytest-asyncio>=0.24.0->mira-sdk) (2.0.0)\n",
            "Requirement already satisfied: packaging in /usr/local/lib/python3.11/dist-packages (from pytest<9,>=8.2->pytest-asyncio>=0.24.0->mira-sdk) (24.2)\n",
            "Requirement already satisfied: pluggy<2,>=1.5 in /usr/local/lib/python3.11/dist-packages (from pytest<9,>=8.2->pytest-asyncio>=0.24.0->mira-sdk) (1.5.0)\n"
          ]
        }
      ],
      "source": [
        "!pip install mira-sdk"
      ]
    },
    {
      "cell_type": "code",
      "source": [
        "! pip install ElevenLabs"
      ],
      "metadata": {
        "colab": {
          "base_uri": "https://localhost:8080/",
          "height": 0
        },
        "id": "NTVC15O2IW0K",
        "outputId": "3e342ed4-04cf-403d-928d-f42c35eb1377"
      },
      "execution_count": 234,
      "outputs": [
        {
          "output_type": "stream",
          "name": "stdout",
          "text": [
            "Requirement already satisfied: ElevenLabs in /usr/local/lib/python3.11/dist-packages (1.50.4)\n",
            "Requirement already satisfied: httpx>=0.21.2 in /usr/local/lib/python3.11/dist-packages (from ElevenLabs) (0.28.1)\n",
            "Requirement already satisfied: pydantic>=1.9.2 in /usr/local/lib/python3.11/dist-packages (from ElevenLabs) (2.10.5)\n",
            "Requirement already satisfied: pydantic-core<3.0.0,>=2.18.2 in /usr/local/lib/python3.11/dist-packages (from ElevenLabs) (2.27.2)\n",
            "Requirement already satisfied: requests>=2.20 in /usr/local/lib/python3.11/dist-packages (from ElevenLabs) (2.32.3)\n",
            "Requirement already satisfied: typing_extensions>=4.0.0 in /usr/local/lib/python3.11/dist-packages (from ElevenLabs) (4.12.2)\n",
            "Requirement already satisfied: websockets>=11.0 in /usr/local/lib/python3.11/dist-packages (from ElevenLabs) (14.2)\n",
            "Requirement already satisfied: anyio in /usr/local/lib/python3.11/dist-packages (from httpx>=0.21.2->ElevenLabs) (3.7.1)\n",
            "Requirement already satisfied: certifi in /usr/local/lib/python3.11/dist-packages (from httpx>=0.21.2->ElevenLabs) (2024.12.14)\n",
            "Requirement already satisfied: httpcore==1.* in /usr/local/lib/python3.11/dist-packages (from httpx>=0.21.2->ElevenLabs) (1.0.7)\n",
            "Requirement already satisfied: idna in /usr/local/lib/python3.11/dist-packages (from httpx>=0.21.2->ElevenLabs) (3.10)\n",
            "Requirement already satisfied: h11<0.15,>=0.13 in /usr/local/lib/python3.11/dist-packages (from httpcore==1.*->httpx>=0.21.2->ElevenLabs) (0.14.0)\n",
            "Requirement already satisfied: annotated-types>=0.6.0 in /usr/local/lib/python3.11/dist-packages (from pydantic>=1.9.2->ElevenLabs) (0.7.0)\n",
            "Requirement already satisfied: charset-normalizer<4,>=2 in /usr/local/lib/python3.11/dist-packages (from requests>=2.20->ElevenLabs) (3.4.1)\n",
            "Requirement already satisfied: urllib3<3,>=1.21.1 in /usr/local/lib/python3.11/dist-packages (from requests>=2.20->ElevenLabs) (2.3.0)\n",
            "Requirement already satisfied: sniffio>=1.1 in /usr/local/lib/python3.11/dist-packages (from anyio->httpx>=0.21.2->ElevenLabs) (1.3.1)\n"
          ]
        }
      ]
    },
    {
      "cell_type": "code",
      "execution_count": 235,
      "metadata": {
        "id": "z72l3in2e4Rs"
      },
      "outputs": [],
      "source": [
        "from mira_sdk import MiraClient\n",
        "client = MiraClient(config={\"API_KEY\": \"YOUR_API_KEY\"})\n"
      ]
    },
    {
      "cell_type": "code",
      "execution_count": 236,
      "metadata": {
        "colab": {
          "base_uri": "https://localhost:8080/",
          "height": 0
        },
        "id": "Uje1mu1se_ey",
        "outputId": "233151c8-1767-4591-abfc-411b98126b29"
      },
      "outputs": [
        {
          "output_type": "stream",
          "name": "stdout",
          "text": [
            "Requirement already satisfied: python-dotenv in /usr/local/lib/python3.11/dist-packages (1.0.1)\n"
          ]
        }
      ],
      "source": [
        "!pip install python-dotenv\n"
      ]
    },
    {
      "cell_type": "code",
      "execution_count": 237,
      "metadata": {
        "id": "kDbSYAHxfFNo"
      },
      "outputs": [],
      "source": [
        "os.environ[\"MIRA_API_KEY\"] = \"sb-6204f6e14773e5d38a5e26a8bc1f0731\""
      ]
    },
    {
      "cell_type": "code",
      "execution_count": 238,
      "metadata": {
        "id": "tASeGiARfj3p"
      },
      "outputs": [],
      "source": [
        "from dotenv import load_dotenv\n",
        "from mira_sdk import MiraClient , Flow\n",
        "import os\n",
        "\n",
        "load_dotenv()\n",
        "client = MiraClient(config={\"API_KEY\": os.getenv(\"MIRA_API_KEY\")})\n"
      ]
    },
    {
      "cell_type": "code",
      "source": [
        "\n",
        "\n",
        "def extract_chapter_from_epub(epub_path, chapter_number):\n",
        "    # Load the EPUB file\n",
        "    book = epub.read_epub(epub_path)\n",
        "\n",
        "    # Find the items that are HTML files (chapters)\n",
        "    chapter_list = []\n",
        "    for item in book.get_items():\n",
        "        if isinstance(item, epub.EpubHtml):  # Check if the item is an EpubHtml object\n",
        "            chapter_list.append(item)\n",
        "\n",
        "    # Ensure the chapter_number is within the valid range\n",
        "    if chapter_number < 1 or chapter_number > len(chapter_list):\n",
        "        return \"Invalid chapter number.\"\n",
        "\n",
        "    # Get the content of the specific chapter\n",
        "    chapter = chapter_list[chapter_number - 1]  # EPUB chapters are 0-indexed, so adjust\n",
        "    soup = BeautifulSoup(chapter.content, 'lxml')  # Correct way to access content\n",
        "\n",
        "    # Extract the text (You can modify this to suit how the text is structured in the EPUB)\n",
        "    chapter_text = soup.get_text()\n",
        "\n",
        "    return chapter_text\n",
        "\n",
        "# Input the path to the EPUB and the chapter number\n",
        "epub_path = input(\"Enter the path to the EPUB file: \")  # Provide '/content/SICN.epub' directly here\n",
        "chapter_number = int(input(\"Enter the chapter number: \"))\n",
        "\n",
        "# Extract the chapter text\n",
        "a1 = extract_chapter_from_epub(epub_path, chapter_number)\n",
        "\n",
        "# Print the extracted text\n",
        "print(a1)\n"
      ],
      "metadata": {
        "colab": {
          "base_uri": "https://localhost:8080/",
          "height": 0
        },
        "id": "miydv_nBb8uP",
        "outputId": "31e1dfd0-2061-4609-b4ea-6632f48157a4"
      },
      "execution_count": 239,
      "outputs": [
        {
          "output_type": "stream",
          "name": "stdout",
          "text": [
            "Enter the path to the EPUB file: /content/SICN.epub\n",
            "Enter the chapter number: 11\n",
            "Chapter 10: Heading to the banquetChapter 10: Heading to the banquet'I must say, I look dashing.' Wei Jun commented as he examined himself in the mirror while dressed in a tuxedo. It was a normal tuxedo with nothing special except for the studs yet it looked better on Wei Jun than it did on anyone else.\n",
            "\"Let's go.\" Wei Jun came out of his room and ordered Chen Xian who had been waiting outside Wei Jun's room for a while now. It was six in the evening and the banquet would start at eight. The son of the birthday woman was already very late.\n",
            "The car left the villa of Young Ruan and after a drive of twenty minutes, it entered the premises of a mansion five times the size of Young Ruan's villa.\n",
            "'It's adequate at best in size.' But for a person like Wei Jun or the real one possessing the body, the mansion in front of him wasn't very big.\n",
            "The car soon stopped in front of a main door. A girl with brown hair and brown eyes was standing at the main door wearing a displeased look. That girl was the incarnation of beauty itself. Sharp nose coupled with a smooth face and rosy lips. Her eyes would drown anyone in them if she stared at someone with them.\n",
            "She was about five feet tall in height and age-wise, she seemed somewhere around the early twenties. Her dress of choice was a green dress that cascaded down to her heels of the same color. A shoulder-cut dress that accentuated her milky white skin color. Her green ruby earrings also made her very attractive.\n",
            "It took a few seconds of stepping out of the car to properly analyze the girl standing in front of him for Wei Jun. He could also guess she was angry. But what he wanted to know the most was, 'Who is she?'\n",
            "[That is one of the heroines of the first novel, host]\n",
            "[Also your sister]\n",
            "'I see.' From that, Wei Jun didn't need to ask for the girl's name. He knew exactly who she was. Lin Ruan, a primary heroine in the novel and the adoptive sister of the previous holder of Wei Jun's body.Nôv(el)B\\\\jnn\n",
            "\"How could you be so late? You were supposed to be here by five. You should have been here in the morning.\" Lin Ruan complained as soon as Wei Jun got closer to her.\n",
            "Wei Jun didn't reply. He kept staring at her for a while before he replied, \"I was busy picking up a suitable gift for Mother.\"\n",
            "Contrary to that, during the brief stare, Wei Jun was thinking something else entirely, 'She isn't my mother so why should I?'\n",
            "[Wouldn't it be better to just blend in?]\n",
            "[Lesser headaches that way]\n",
            "'You're right.' He replied before he asked, 'Anyway, what should I do about her? If she is a heroine, then she's an enemy. Do I need to kill her?'\n",
            "[Not necessarily]\n",
            "[In fact, this could be an opportunity]\n",
            "[Since Lin Ruan is a very crucial point of Run Long, making her your ally instead would deal a massive blow to Run Long]\n",
            "'In other words, this girl is an opportunity I need to take away from Run Long?' Wei Jun surmised the explanation.\n",
            "[Yes]\n",
            "'Then does that mean, every heroine and friend of the protagonist is also an opportunity? And not just items and manuals?' He asked as he purchased something from the shop and then lied about the gift thing.\n",
            "[Precisely]\n",
            "'I see.'\n",
            "\"Don't let it happen again. Can you imagine if the guests had arrived before you did, how embarrassing would it be?\" Lin Ruan reprimanded Wei Jun.\n",
            "Wei Jun nodded and apologized, \"I truly apologize, sister. I will make sure to make up for it.\"\n",
            "Lin Ruan was taken aback by Wei Jun's answer. She was expecting Wei Jun to push the blame to someone else or say something mean. Apologizing and doing that so nicely was the last thing--- No, it was something she hadn't even considered from her brother.\n",
            "\"I... Ah... Okay.\" She stuttered as she failed to form a proper reply. Wei Jun walked past her and entered the luxurious mansion. Just as he entered, the shine from the various decorative lights and the chandelier overtook him. He observed his surroundings as various servants moved at the directives of their superiors to prepare various delicacies to enjoy during the banquet.\n",
            "\"Come on, Mother is waiting for you.\" Lin Ruan said as he was still taking everything in. Wei Jun nodded and followed Lin Ruan through the mansion. After walking for about ten minutes, they finally arrived outside a room.\n",
            "Many servants were standing outside that room, looking increasingly worried.\n",
            "\"What is happening?\" Wei Jun asked as he saw the atmosphere was far from celebratory.\n",
            "\"You shouldn't concern yourself with these things.\" Lin Ruan curtly replied before she moved ahead. The servants made way for her to access the door and after a slight knock, she said, \"Mother, please don't spoil your mood on such a festive occasion. Look, even Xiao Wei is here now.\"\n",
            "After a few seconds, the door opened and a woman with a red face came out. Not only her face, but even her eyes were swollen and they were red that Wei Jun suspected were from crying.\n",
            "He wondered what would have happened before the woman who appeared from the door whom he could barely assess, jumped at him with such a speed that he couldn't follow her movements with his pathetic agility. \n",
            "Still, he prepared himself but before he could, he was already in the warm embrace of a woman who was crying nonstop. \"Xiao Wei. What has happened? Look what they did.\"\n",
            "The woman who had taken Wei Jun by surprise started rambling incoherently. Many of her words didn't make any sense but from the looks of it, she seemed to be relaying important information but Wei Jun couldn't understand.\n",
            "He turned to look at his new sister who also seemed down after seeing their mother like this. \"What happened?\" This time, Wei Jun didn't ask out of curiosity but there was authority in his voice.\n"
          ]
        },
        {
          "output_type": "stream",
          "name": "stderr",
          "text": [
            "<ipython-input-239-5ff9d0fdf185>:17: XMLParsedAsHTMLWarning: It looks like you're parsing an XML document using an HTML parser. If this really is an HTML document (maybe it's XHTML?), you can ignore or filter this warning. If it's XML, you should know that using an XML parser will be more reliable. To parse this document as XML, make sure you have the lxml package installed, and pass the keyword argument `features=\"xml\"` into the BeautifulSoup constructor.\n",
            "  soup = BeautifulSoup(chapter.content, 'lxml')  # Correct way to access content\n"
          ]
        }
      ]
    },
    {
      "cell_type": "code",
      "execution_count": 240,
      "metadata": {
        "id": "9Riw1KZ5wCLE"
      },
      "outputs": [],
      "source": [
        "\n",
        "Prompt_dialogue = str(\"I have uploaded a chapter of a novel in text format. In this chapter, several characters, including a narrator, speak at different points. Your task is to process the chapter and return the output strictly as a Python list in the format: dialogue_list = [\\\"Character Name: Their speech\\\", \\\"Character Name: Their speech\\\", ...]. The output must include every line of dialogue or narration in the exact order it appears in the chapter. For each line, identify the speaker (e.g., 'Narrator', 'Alice', 'Bob', etc.) and their corresponding speech. Ensure that the dialogue or narration remains unchanged and strictly follows the specified list format. For example, if the chapter contains the narrator introducing the scene, followed by Alice speaking, Bob responding, and Alice concluding, the output should be: dialogue_list = [\\\"Narrator: The narrator introduces the scene.\\\", \\\"Alice: Hello there!\\\", \\\"Bob: How are you?\\\", \\\"Alice: I'm fine, thank you!\\\"]. Process the entire chapter into this format without altering any dialogue or narration content, and ensure the response returned is a valid Python list.\")"
      ]
    },
    {
      "cell_type": "code",
      "source": [
        "flow = Flow(source=\"module-config.yaml\")\n",
        "flow1 = Flow(source=\"voice-id.yaml\")"
      ],
      "metadata": {
        "id": "6vSkSc0BMlt0"
      },
      "execution_count": 263,
      "outputs": []
    },
    {
      "cell_type": "code",
      "source": [
        "def dialogue_list(a1, Prompt_dialogue):\n",
        "    \"\"\"\n",
        "    Process a novel chapter with a dialogue extraction prompt and return a single list of dialogues.\n",
        "\n",
        "    Args:\n",
        "        a1 (str): The text of the chapter.\n",
        "        Prompt_dialogue (str): The prompt used to extract dialogue.\n",
        "\n",
        "    Returns:\n",
        "        list: A single list of dialogues in the format [\"Character Name: Their speech\", ...].\n",
        "    \"\"\"\n",
        "    input_dict = {\"Chapter\": a1, \"Prompt\": Prompt_dialogue}\n",
        "    response = client.flow.test(flow1, input_dict)\n",
        "\n",
        "    # Extract the 'result' key from the API response\n",
        "    raw_result = response.get('result', '')\n",
        "\n",
        "    # Debugging: Print the raw result for inspection\n",
        "    print(\"Raw result:\", raw_result)\n",
        "\n",
        "    if isinstance(raw_result, str):\n",
        "        try:\n",
        "            # Clean up any formatting markers like ```python or ```\n",
        "            if raw_result.startswith(\"```python\") or raw_result.startswith(\"```\"):\n",
        "                raw_result = raw_result.strip(\"```python\").strip(\"```\").strip()\n",
        "\n",
        "            # Extract only the list part by locating the first and last square brackets\n",
        "            start_index = raw_result.find(\"[\")\n",
        "            end_index = raw_result.rfind(\"]\") + 1\n",
        "            if start_index != -1 and end_index != -1:\n",
        "                list_content = raw_result[start_index:end_index]\n",
        "            else:\n",
        "                raise ValueError(\"Could not locate valid list in the response.\")\n",
        "\n",
        "            # Parse the list content safely\n",
        "            import ast\n",
        "            result_array = ast.literal_eval(list_content)  # Converts the string to a Python list\n",
        "\n",
        "            # Ensure the result is a flat list of strings\n",
        "            if isinstance(result_array, list) and all(isinstance(item, str) for item in result_array):\n",
        "                return result_array\n",
        "            else:\n",
        "                print(\"Unexpected format: Parsed result is not a list of strings.\")\n",
        "                return []\n",
        "        except (SyntaxError, ValueError) as e:\n",
        "            print(f\"Error parsing the response: {e}\")\n",
        "            return []\n",
        "    else:\n",
        "        print(\"Invalid response format: Expected a string.\")\n",
        "        return []\n"
      ],
      "metadata": {
        "id": "NABaxchPhFl0"
      },
      "execution_count": 264,
      "outputs": []
    },
    {
      "cell_type": "code",
      "execution_count": 265,
      "metadata": {
        "colab": {
          "base_uri": "https://localhost:8080/",
          "height": 0
        },
        "id": "IXA4oVRzFLKm",
        "outputId": "5f42db87-ecc5-4902-f607-f53db963ac22",
        "collapsed": true
      },
      "outputs": [
        {
          "output_type": "stream",
          "name": "stdout",
          "text": [
            "Raw result: Here is the chapter processed into a Python list of dialogue and narration, with speakers identified:\n",
            "\n",
            "dialogue_list = [\n",
            "    \"Narrator: 'I must say, I look dashing.' Wei Jun commented as he examined himself in the mirror while dressed in a tuxedo. It was a normal tuxedo with nothing special except for the studs yet it looked better on Wei Jun than it did on anyone else.\",\n",
            "    \"Wei Jun: Let's go.\",\n",
            "    \"Narrator: Wei Jun came out of his room and ordered Chen Xian who had been waiting outside Wei Jun's room for a while now. It was six in the evening and the banquet would start at eight. The son of the birthday woman was already very late.\",\n",
            "    \"Narrator: The car left the villa of Young Ruan and after a drive of twenty minutes, it entered the premises of a mansion five times the size of Young Ruan's villa.\",\n",
            "    \"Narrator: 'It's adequate at best in size.' But for a person like Wei Jun or the real one possessing the body, the mansion in front of him wasn't very big.\",\n",
            "    \"Narrator: The car soon stopped in front of a main door. A girl with brown hair and brown eyes was standing at the main door wearing a displeased look. That girl was the incarnation of beauty itself. Sharp nose coupled with a smooth face and rosy lips. Her eyes would drown anyone in them if she stared at someone with them.\",\n",
            "    \"Narrator: She was about five feet tall in height and age-wise, she seemed somewhere around the early twenties. Her dress of choice was a green dress that cascaded down to her heels of the same color. A shoulder-cut dress that accentuated her milky white skin color. Her green ruby earrings also made her very attractive.\",\n",
            "    \"Narrator: It took a few seconds of stepping out of the car to properly analyze the girl standing in front of him for Wei Jun. He could also guess she was angry. But what he wanted to know the most was, 'Who is she?'\",\n",
            "    \"System: [That is one of the heroines of the first novel, host]\",\n",
            "    \"System: [Also your sister]\",\n",
            "    \"Narrator: 'I see.' From that, Wei Jun didn't need to ask for the girl's name. He knew exactly who she was. Lin Ruan, a primary heroine in the novel and the adoptive sister of the previous holder of Wei Jun's body.\",\n",
            "    \"Lin Ruan: How could you be so late? You were supposed to be here by five. You should have been here in the morning.\",\n",
            "    \"Narrator: Wei Jun didn't reply. He kept staring at her for a while before he replied,\",\n",
            "    \"Wei Jun: I was busy picking up a suitable gift for Mother.\",\n",
            "    \"Narrator: Contrary to that, during the brief stare, Wei Jun was thinking something else entirely, 'She isn't my mother so why should I?'\",\n",
            "    \"System: [Wouldn't it be better to just blend in?]\",\n",
            "    \"System: [Lesser headaches that way]\",\n",
            "    \"Narrator: 'You're right.' He replied before he asked, 'Anyway, what should I do about her? If she is a heroine, then she's an enemy. Do I need to kill her?'\",\n",
            "    \"System: [Not necessarily]\",\n",
            "    \"System: [In fact, this could be an opportunity]\",\n",
            "    \"System: [Since Lin Ruan is a very crucial point of Run Long, making her your ally instead would deal a massive blow to Run Long]\",\n",
            "    \"Narrator: 'In other words, this girl is an opportunity I need to take away from Run Long?' Wei Jun surmised the explanation.\",\n",
            "    \"System: [Yes]\",\n",
            "    \"Narrator: 'Then does that mean, every heroine and friend of the protagonist is also an opportunity? And not just items and manuals?' He asked as he purchased something from the shop and then lied about the gift thing.\",\n",
            "    \"System: [Precisely]\",\n",
            "    \"Narrator: 'I see.'\",\n",
            "    \"Lin Ruan: Don't let it happen again. Can you imagine if the guests had arrived before you did, how embarrassing would it be?\",\n",
            "    \"Wei Jun: I truly apologize, sister. I will make sure to make up for it.\",\n",
            "    \"Narrator: Lin Ruan was taken aback by Wei Jun's answer. She was expecting Wei Jun to push the blame to someone else or say something mean. Apologizing and doing that so nicely was the last thing--- No, it was something she hadn't even considered from her brother.\",\n",
            "    \"Lin Ruan: I... Ah... Okay.\",\n",
            "    \"Narrator: She stuttered as she failed to form a proper reply. Wei Jun walked past her and entered the luxurious mansion. Just as he entered, the shine from the various decorative lights and the chandelier overtook him. He observed his surroundings as various servants moved at the directives of their superiors to prepare various delicacies to enjoy during the banquet.\",\n",
            "    \"Lin Ruan: Come on, Mother is waiting for you.\",\n",
            "    \"Narrator: Lin Ruan said as he was still taking everything in. Wei Jun nodded and followed Lin Ruan through the mansion. After walking for about ten minutes, they finally arrived outside a room.\",\n",
            "    \"Narrator: Many servants were standing outside that room, looking increasingly worried.\",\n",
            "    \"Wei Jun: What is happening?\",\n",
            "    \"Narrator: Wei Jun asked as he saw the atmosphere was far from celebratory.\",\n",
            "    \"Lin Ruan: You shouldn't concern yourself with these things.\",\n",
            "    \"Narrator: Lin Ruan curtly replied before she moved ahead. The servants made way for her to access the door and after a slight knock, she said,\",\n",
            "    \"Lin Ruan: Mother, please don't spoil your mood on such a festive occasion. Look, even Xiao Wei is here now.\",\n",
            "    \"Narrator: After a few seconds, the door opened and a woman with a red face came out. Not only her face, but even her eyes were swollen and they were red that Wei Jun suspected were from crying.\",\n",
            "    \"Narrator: He wondered what would have happened before the woman who appeared from the door whom he could barely assess, jumped at him with such a speed that he couldn't follow her movements with his pathetic agility.\",\n",
            "    \"Narrator: Still, he prepared himself but before he could, he was already in the warm embrace of a woman who was crying nonstop.\",\n",
            "    \"Mother: Xiao Wei. What has happened? Look what they did.\",\n",
            "    \"Narrator: The woman who had taken Wei Jun by surprise started rambling incoherently. Many of her words didn't make any sense but from the looks of it, she seemed to be relaying important information but Wei Jun couldn't understand.\",\n",
            "    \"Narrator: He turned to look at his new sister who also seemed down after seeing their mother like this.\",\n",
            "    \"Wei Jun: What happened?\",\n",
            "    \"Narrator: This time, Wei Jun didn't ask out of curiosity but there was authority in his voice.\"\n",
            "]\n"
          ]
        }
      ],
      "source": [
        "import time\n",
        "\n",
        "def fetch_dialogue_list():\n",
        "    while True:  # Infinite loop to restart the process on failure\n",
        "        try:\n",
        "            # Assuming dialogue_list is a function that takes a prompt and fetches data from an API\n",
        "            dialogue_list_result = dialogue_list(a1, Prompt_dialogue)\n",
        "            return dialogue_list_result  # Return the successful result\n",
        "        except Exception as e:\n",
        "            print(f\"Error occurred: {e}\")\n",
        "            print(\"Restarting process from scratch...\")\n",
        "            # Optional: Add a delay before retrying\n",
        "            time.sleep(5)  # Wait 5 seconds before retrying\n",
        "\n",
        "# Call the function\n",
        "a = fetch_dialogue_list()\n"
      ]
    },
    {
      "cell_type": "code",
      "source": [
        "\n",
        "type(a)\n"
      ],
      "metadata": {
        "colab": {
          "base_uri": "https://localhost:8080/",
          "height": 0
        },
        "id": "LN57lmj4cCLW",
        "outputId": "0959f11c-762e-4add-a36d-012ab9bce6f0"
      },
      "execution_count": 266,
      "outputs": [
        {
          "output_type": "execute_result",
          "data": {
            "text/plain": [
              "list"
            ]
          },
          "metadata": {},
          "execution_count": 266
        }
      ]
    },
    {
      "cell_type": "code",
      "source": [
        "def text_ext(dialogue_list, index):\n",
        "    \"\"\"\n",
        "    Extracts the text after the colon at a specific index in a list.\n",
        "\n",
        "    Args:\n",
        "        dialogue_list (list): A list of strings where each string contains 'speaker: dialogue'.\n",
        "        index (int): The index of the string to process.\n",
        "\n",
        "    Returns:\n",
        "        str: The text after the colon in the string at the given index.\n",
        "    \"\"\"\n",
        "    if index < 0 or index >= len(dialogue_list):\n",
        "        raise IndexError(\"Index out of range. Please provide a valid index.\")\n",
        "\n",
        "    if \":\" not in dialogue_list[index]:\n",
        "        raise ValueError(\"Invalid format. The string must contain a ':' to separate the speaker and dialogue.\")\n",
        "\n",
        "    # Extract text after the colon\n",
        "    text_after_colon = dialogue_list[index].split(\":\", 1)[1].strip()\n",
        "    text_before_colon = dialogue_list[index].split(\":\", 1)[0].strip()\n",
        "\n",
        "    return text_before_colon,text_after_colon\n",
        "\n",
        "# Example us\n",
        "# Extract text after the colon at index 5\n",
        "result = text_ext(a, 4)\n",
        "print(result)  # Output: 'So? What have you observed?'\n"
      ],
      "metadata": {
        "colab": {
          "base_uri": "https://localhost:8080/",
          "height": 0
        },
        "id": "7MGDvF9uU8pF",
        "outputId": "6b2e00e4-d8ec-49c2-b527-3b251cb92314"
      },
      "execution_count": 267,
      "outputs": [
        {
          "output_type": "stream",
          "name": "stdout",
          "text": [
            "('Narrator', \"'It's adequate at best in size.' But for a person like Wei Jun or the real one possessing the body, the mansion in front of him wasn't very big.\")\n"
          ]
        }
      ]
    },
    {
      "cell_type": "code",
      "source": [
        "import requests\n",
        "import json\n",
        "\n",
        "# Insert your ElevenLabs API key here\n",
        "API_KEY = \"sk_37fbfd685658afa2f68d613cfb96c65f6bda89868a199f4d\"\n",
        "\n",
        "def list_voices():\n",
        "    url = \"https://api.elevenlabs.io/v1/voices\"\n",
        "    headers = {\n",
        "        \"Accept\": \"application/json\",\n",
        "        \"xi-api-key\": API_KEY,\n",
        "        \"Content-Type\": \"application/json\"\n",
        "    }\n",
        "\n",
        "    response = requests.get(url, headers=headers)\n",
        "\n",
        "    if response.status_code == 200:\n",
        "        voices = response.json().get('voices', [])\n",
        "        for voice in voices:\n",
        "            name = voice.get('name', 'N/A')\n",
        "            description = voice.get('description', 'No description available')\n",
        "            voice_id = voice.get('voice_id', 'N/A')\n",
        "            labels = voice.get('labels', {})\n",
        "            print(f\"Name: {name}\")\n",
        "            print(f\"Description: {description}\")\n",
        "            print(f\"Voice ID: {voice_id}\")\n",
        "            print(f\"Labels: {labels}\")\n",
        "            print(\"-\" * 40)\n",
        "    else:\n",
        "        print(f\"Error: {response.status_code}, {response.text}\")\n",
        "\n",
        "# Example usage\n",
        "c=list_voices()"
      ],
      "metadata": {
        "colab": {
          "base_uri": "https://localhost:8080/",
          "height": 0
        },
        "id": "yEBzHZqAqNEi",
        "outputId": "fcc68b8f-d141-4af0-e415-535205328cd9"
      },
      "execution_count": 268,
      "outputs": [
        {
          "output_type": "stream",
          "name": "stdout",
          "text": [
            "Name: Aria\n",
            "Description: None\n",
            "Voice ID: 9BWtsMINqrJLrRacOk9x\n",
            "Labels: {'accent': 'American', 'description': 'expressive', 'age': 'middle-aged', 'gender': 'female', 'use_case': 'social media'}\n",
            "----------------------------------------\n",
            "Name: Roger\n",
            "Description: None\n",
            "Voice ID: CwhRBWXzGAHq8TQ4Fs17\n",
            "Labels: {'accent': 'American', 'description': 'confident', 'age': 'middle-aged', 'gender': 'male', 'use_case': 'social media'}\n",
            "----------------------------------------\n",
            "Name: Sarah\n",
            "Description: None\n",
            "Voice ID: EXAVITQu4vr4xnSDxMaL\n",
            "Labels: {'accent': 'american', 'description': 'soft', 'age': 'young', 'gender': 'female', 'use_case': 'news'}\n",
            "----------------------------------------\n",
            "Name: Laura\n",
            "Description: None\n",
            "Voice ID: FGY2WhTYpPnrIDTdsKH5\n",
            "Labels: {'accent': 'American', 'description': 'upbeat', 'age': 'young', 'gender': 'female', 'use_case': 'social media'}\n",
            "----------------------------------------\n",
            "Name: Charlie\n",
            "Description: None\n",
            "Voice ID: IKne3meq5aSn9XLyUdCD\n",
            "Labels: {'accent': 'Australian', 'description': 'natural', 'age': 'middle aged', 'gender': 'male', 'use_case': 'conversational'}\n",
            "----------------------------------------\n",
            "Name: George\n",
            "Description: None\n",
            "Voice ID: JBFqnCBsd6RMkjVDRZzb\n",
            "Labels: {'accent': 'British', 'description': 'warm', 'age': 'middle aged', 'gender': 'male', 'use_case': 'narration'}\n",
            "----------------------------------------\n",
            "Name: Callum\n",
            "Description: None\n",
            "Voice ID: N2lVS1w4EtoT3dr4eOWO\n",
            "Labels: {'accent': 'Transatlantic', 'description': 'intense', 'age': 'middle-aged', 'gender': 'male', 'use_case': 'characters'}\n",
            "----------------------------------------\n",
            "Name: River\n",
            "Description: None\n",
            "Voice ID: SAz9YHcvj6GT2YYXdXww\n",
            "Labels: {'accent': 'American', 'description': 'confident', 'age': 'middle-aged', 'gender': 'non-binary', 'use_case': 'social media'}\n",
            "----------------------------------------\n",
            "Name: Liam\n",
            "Description: None\n",
            "Voice ID: TX3LPaxmHKxFdv7VOQHJ\n",
            "Labels: {'accent': 'American', 'description': 'articulate', 'age': 'young', 'gender': 'male', 'use_case': 'narration'}\n",
            "----------------------------------------\n",
            "Name: Charlotte\n",
            "Description: None\n",
            "Voice ID: XB0fDUnXU5powFXDhCwa\n",
            "Labels: {'accent': 'Swedish', 'description': 'seductive', 'age': 'young', 'gender': 'female', 'use_case': 'characters'}\n",
            "----------------------------------------\n",
            "Name: Alice\n",
            "Description: None\n",
            "Voice ID: Xb7hH8MSUJpSbSDYk0k2\n",
            "Labels: {'accent': 'British', 'description': 'confident', 'age': 'middle-aged', 'gender': 'female', 'use_case': 'news'}\n",
            "----------------------------------------\n",
            "Name: Matilda\n",
            "Description: None\n",
            "Voice ID: XrExE9yKIg1WjnnlVkGX\n",
            "Labels: {'accent': 'American', 'description': 'friendly', 'age': 'middle-aged', 'gender': 'female', 'use_case': 'narration'}\n",
            "----------------------------------------\n",
            "Name: Will\n",
            "Description: None\n",
            "Voice ID: bIHbv24MWmeRgasZH58o\n",
            "Labels: {'accent': 'American', 'description': 'friendly', 'age': 'young', 'gender': 'male', 'use_case': 'social media'}\n",
            "----------------------------------------\n",
            "Name: Jessica\n",
            "Description: None\n",
            "Voice ID: cgSgspJ2msm6clMCkdW9\n",
            "Labels: {'accent': 'American', 'description': 'expressive', 'age': 'young', 'gender': 'female', 'use_case': 'conversational'}\n",
            "----------------------------------------\n",
            "Name: Eric\n",
            "Description: None\n",
            "Voice ID: cjVigY5qzO86Huf0OWal\n",
            "Labels: {'accent': 'American', 'description': 'friendly', 'age': 'middle-aged', 'gender': 'male', 'use_case': 'conversational'}\n",
            "----------------------------------------\n",
            "Name: Chris\n",
            "Description: None\n",
            "Voice ID: iP95p4xoKVk53GoZ742B\n",
            "Labels: {'accent': 'American', 'description': 'casual', 'age': 'middle-aged', 'gender': 'male', 'use_case': 'conversational'}\n",
            "----------------------------------------\n",
            "Name: Brian\n",
            "Description: None\n",
            "Voice ID: nPczCjzI2devNBz1zQrb\n",
            "Labels: {'accent': 'American', 'description': 'deep', 'age': 'middle-aged', 'gender': 'male', 'use_case': 'narration'}\n",
            "----------------------------------------\n",
            "Name: Daniel\n",
            "Description: None\n",
            "Voice ID: onwK4e9ZLuTAKqWW03F9\n",
            "Labels: {'accent': 'British', 'description': 'authoritative', 'age': 'middle-aged', 'gender': 'male', 'use_case': 'news'}\n",
            "----------------------------------------\n",
            "Name: Lily\n",
            "Description: None\n",
            "Voice ID: pFZP5JQG7iQjIQuC4Bku\n",
            "Labels: {'accent': 'British', 'description': 'warm', 'age': 'middle-aged', 'gender': 'female', 'use_case': 'narration'}\n",
            "----------------------------------------\n",
            "Name: Bill\n",
            "Description: None\n",
            "Voice ID: pqHfZKP75CvOlQylNhV4\n",
            "Labels: {'accent': 'American', 'description': 'trustworthy', 'age': 'old', 'gender': 'male', 'use_case': 'narration'}\n",
            "----------------------------------------\n"
          ]
        }
      ]
    },
    {
      "cell_type": "code",
      "source": [
        "prompt_character=str(\"\"\" I am giving you voice id below , read the novel and on the basis of traits  of character in the novel  assign character of novel with specific voice id in  the array format, listen dont give the justification only send the array of formatlike [(\"narrator\",\"voiceId\"),(\"char1\",\"voiceid\"),(\"char2\",\"voiceid1\")...] behind this nothing should be returned[\n",
        "  {\"Name\": \"Aria\", \"Traits\": {\"accent\": \"American\", \"description\": \"expressive\", \"age\": \"middle-aged\", \"gender\": \"female\", \"use_case\": \"social media\"}},\n",
        "  {\"Name\": \"Roger\", \"Traits\": {\"accent\": \"American\", \"description\": \"confident\", \"age\": \"middle-aged\", \"gender\": \"male\", \"use_case\": \"social media\"}},\n",
        "  {\"Name\": \"Sarah\", \"Traits\": {\"accent\": \"American\", \"description\": \"soft\", \"age\": \"young\", \"gender\": \"female\", \"use_case\": \"news\"}},\n",
        "  {\"Name\": \"Charlie\", \"Traits\": {\"accent\": \"Australian\", \"description\": \"natural\", \"age\": \"middle-aged\", \"gender\": \"male\", \"use_case\": \"conversational\"}},\n",
        "  {\"Name\": \"George\", \"Traits\": {\"accent\": \"British\", \"description\": \"warm\", \"age\": \"middle-aged\", \"gender\": \"male\", \"use_case\": \"narration\"}},\n",
        "  {\"Name\": \"Callum\", \"Traits\": {\"accent\": \"Transatlantic\", \"description\": \"intense\", \"age\": \"middle-aged\", \"gender\": \"male\", \"use_case\": \"characters\"}},\n",
        "  {\"Name\": \"River\", \"Traits\": {\"accent\": \"American\", \"description\": \"confident\", \"age\": \"middle-aged\", \"gender\": \"non-binary\", \"use_case\": \"social media\"}},\n",
        "  {\"Name\": \"Liam\", \"Traits\": {\"accent\": \"American\", \"description\": \"articulate\", \"age\": \"young\", \"gender\": \"male\", \"use_case\": \"narration\"}},\n",
        "  {\"Name\": \"Charlotte\", \"Traits\": {\"accent\": \"Swedish\", \"description\": \"seductive\", \"age\": \"young\", \"gender\": \"female\", \"use_case\": \"characters\"}},\n",
        "  {\"Name\": \"Alice\", \"Traits\": {\"accent\": \"British\", \"description\": \"confident\", \"age\": \"middle-aged\", \"gender\": \"female\", \"use_case\": \"news\"}},\n",
        "  {\"Name\": \"Matilda\", \"Traits\": {\"accent\": \"American\", \"description\": \"friendly\", \"age\": \"middle-aged\", \"gender\": \"female\", \"use_case\": \"narration\"}},\n",
        "  {\"Name\": \"Will\", \"Traits\": {\"accent\": \"American\", \"description\": \"friendly\", \"age\": \"young\", \"gender\": \"male\", \"use_case\": \"social media\"}},\n",
        "  {\"Name\": \"Jessica\", \"Traits\": {\"accent\": \"American\", \"description\": \"expressive\", \"age\": \"young\", \"gender\": \"female\", \"use_case\": \"conversational\"}},\n",
        "  {\"Name\": \"Eric\", \"Traits\": {\"accent\": \"American\", \"description\": \"friendly\", \"age\": \"middle-aged\", \"gender\": \"male\", \"use_case\": \"conversational\"}},\n",
        "  {\"Name\": \"Chris\", \"Traits\": {\"accent\": \"American\", \"description\": \"casual\", \"age\": \"middle-aged\", \"gender\": \"male\", \"use_case\": \"conversational\"}},\n",
        "  {\"Name\": \"Brian\", \"Traits\": {\"accent\": \"American\", \"description\": \"deep\", \"age\": \"middle-aged\", \"gender\": \"male\", \"use_case\": \"narration\"}},\n",
        "  {\"Name\": \"Daniel\", \"Traits\": {\"accent\": \"British\", \"description\": \"authoritative\", \"age\": \"middle-aged\", \"gender\": \"male\", \"use_case\": \"news\"}},\n",
        "  {\"Name\": \"Lily\", \"Traits\": {\"accent\": \"British\", \"description\": \"warm\", \"age\": \"middle-aged\", \"gender\": \"female\", \"use_case\": \"narration\"}},\n",
        "  {\"Name\": \"Bill\", \"Traits\": {\"accent\": \"American\", \"description\": \"trustworthy\", \"age\": \"old\", \"gender\": \"male\", \"use_case\": \"narration\"}}\n",
        "]\"\"\")"
      ],
      "metadata": {
        "id": "J7pXRltzrU7a"
      },
      "execution_count": 269,
      "outputs": []
    },
    {
      "cell_type": "code",
      "source": [],
      "metadata": {
        "id": "wVPLCbnLVdKT"
      },
      "execution_count": 269,
      "outputs": []
    },
    {
      "cell_type": "code",
      "source": [
        "def voiceid_list(a1, prompt_character):\n",
        "    input_dict = {\"Chapter\": a1, \"Prompt\": prompt_character}\n",
        "    response1 = client.flow.test(flow1, input_dict)\n",
        "\n",
        "    # Extract the 'result' value and convert it to a Python list\n",
        "    result = eval(response1.get('result', '[]'))  # Using eval to convert the string to a list\n",
        "    return result\n",
        "\n"
      ],
      "metadata": {
        "id": "NPgYno154s1T"
      },
      "execution_count": 270,
      "outputs": []
    },
    {
      "cell_type": "code",
      "source": [
        "\n",
        "import time\n",
        "\n",
        "def fetch_character_list():\n",
        "    while True:  # Infinite loop to restart the process on failure\n",
        "        try:\n",
        "            # Assuming voiceid_list is a function that takes a prompt and fetches data from an API\n",
        "            char_name_list = voiceid_list(a1, prompt_character)\n",
        "            return char_name_list  # Return the successful result\n",
        "        except Exception as e:\n",
        "            print(f\"Error occurred: {e}\")\n",
        "            print(\"Restarting process from scratch...\")\n",
        "            # Optional: Add a delay before retrying\n",
        "            time.sleep(5)  # Wait 5 seconds before retrying\n",
        "\n",
        "# Call the function\n",
        "char_name_list = fetch_character_list()\n"
      ],
      "metadata": {
        "id": "WnwCU1_Q5Kf5"
      },
      "execution_count": 271,
      "outputs": []
    },
    {
      "cell_type": "code",
      "source": [
        "char_name_list"
      ],
      "metadata": {
        "colab": {
          "base_uri": "https://localhost:8080/",
          "height": 0
        },
        "id": "9AEpssIecAeb",
        "outputId": "89bf0184-570e-4f05-b268-aed5e3de6dac"
      },
      "execution_count": 272,
      "outputs": [
        {
          "output_type": "execute_result",
          "data": {
            "text/plain": [
              "[('Narrator', 'George'),\n",
              " ('Wei Jun', 'Callum'),\n",
              " ('Lin Ruan', 'Charlotte'),\n",
              " ('Mother', 'Aria'),\n",
              " ('Chen Xian', 'Charlie')]"
            ]
          },
          "metadata": {},
          "execution_count": 272
        }
      ]
    },
    {
      "cell_type": "code",
      "source": [
        "voice_dict = {\n",
        "    \"Aria\": \"9BWtsMINqrJLrRacOk9x\",\n",
        "    \"Roger\": \"CwhRBWXzGAHq8TQ4Fs17\",\n",
        "    \"Sarah\": \"EXAVITQu4vr4xnSDxMaL\",\n",
        "    \"Laura\": \"FGY2WhTYpPnrIDTdsKH5\",\n",
        "    \"Charlie\": \"IKne3meq5aSn9XLyUdCD\",\n",
        "    \"George\": \"JBFqnCBsd6RMkjVDRZzb\",\n",
        "    \"Callum\": \"N2lVS1w4EtoT3dr4eOWO\",\n",
        "    \"River\": \"SAz9YHcvj6GT2YYXdXww\",\n",
        "    \"Liam\": \"TX3LPaxmHKxFdv7VOQHJ\",\n",
        "    \"Charlotte\": \"XB0fDUnXU5powFXDhCwa\",\n",
        "    \"Alice\": \"Xb7hH8MSUJpSbSDYk0k2\",\n",
        "    \"Matilda\": \"XrExE9yKIg1WjnnlVkGX\",\n",
        "    \"Will\": \"bIHbv24MWmeRgasZH58o\",\n",
        "    \"Jessica\": \"cgSgspJ2msm6clMCkdW9\",\n",
        "    \"Eric\": \"cjVigY5qzO86Huf0OWal\",\n",
        "    \"Chris\": \"iP95p4xoKVk53GoZ742B\",\n",
        "    \"Brian\": \"nPczCjzI2devNBz1zQrb\",\n",
        "    \"Daniel\": \"onwK4e9ZLuTAKqWW03F9\",\n",
        "    \"Lily\": \"pFZP5JQG7iQjIQuC4Bku\",\n",
        "    \"Bill\": \"pqHfZKP75CvOlQylNhV4\"\n",
        "}\n"
      ],
      "metadata": {
        "id": "fFgfGH3rV-5l"
      },
      "execution_count": 273,
      "outputs": []
    },
    {
      "cell_type": "code",
      "source": [
        "def create_character_voice_list(char_name_list, voice_dict):\n",
        "    # Create a list with (character, name, voiceId)\n",
        "    result = [\n",
        "        (character, name, voice_dict.get(name, \"VoiceId not found\"))\n",
        "        for character, name in char_name_list\n",
        "    ]\n",
        "    return result\n",
        "\n",
        "# Create the combined list\n",
        "character_voice_list = create_character_voice_list(char_name_list, voice_dict)\n",
        "\n",
        "# Output the result\n",
        "print(character_voice_list)\n"
      ],
      "metadata": {
        "colab": {
          "base_uri": "https://localhost:8080/",
          "height": 0
        },
        "id": "m8EuPdaOaTUl",
        "outputId": "0ddcc234-13d1-46eb-f6d4-34a119e0b7d8"
      },
      "execution_count": 274,
      "outputs": [
        {
          "output_type": "stream",
          "name": "stdout",
          "text": [
            "[('Narrator', 'George', 'JBFqnCBsd6RMkjVDRZzb'), ('Wei Jun', 'Callum', 'N2lVS1w4EtoT3dr4eOWO'), ('Lin Ruan', 'Charlotte', 'XB0fDUnXU5powFXDhCwa'), ('Mother', 'Aria', '9BWtsMINqrJLrRacOk9x'), ('Chen Xian', 'Charlie', 'IKne3meq5aSn9XLyUdCD')]\n"
          ]
        }
      ]
    },
    {
      "cell_type": "code",
      "source": [
        "print(a)"
      ],
      "metadata": {
        "colab": {
          "base_uri": "https://localhost:8080/",
          "height": 0
        },
        "id": "cf8KGRQiw7iG",
        "outputId": "25e9512a-0b91-4d9b-baa1-a03158864d71"
      },
      "execution_count": 275,
      "outputs": [
        {
          "output_type": "stream",
          "name": "stdout",
          "text": [
            "[\"Narrator: 'I must say, I look dashing.' Wei Jun commented as he examined himself in the mirror while dressed in a tuxedo. It was a normal tuxedo with nothing special except for the studs yet it looked better on Wei Jun than it did on anyone else.\", \"Wei Jun: Let's go.\", \"Narrator: Wei Jun came out of his room and ordered Chen Xian who had been waiting outside Wei Jun's room for a while now. It was six in the evening and the banquet would start at eight. The son of the birthday woman was already very late.\", \"Narrator: The car left the villa of Young Ruan and after a drive of twenty minutes, it entered the premises of a mansion five times the size of Young Ruan's villa.\", \"Narrator: 'It's adequate at best in size.' But for a person like Wei Jun or the real one possessing the body, the mansion in front of him wasn't very big.\", 'Narrator: The car soon stopped in front of a main door. A girl with brown hair and brown eyes was standing at the main door wearing a displeased look. That girl was the incarnation of beauty itself. Sharp nose coupled with a smooth face and rosy lips. Her eyes would drown anyone in them if she stared at someone with them.', 'Narrator: She was about five feet tall in height and age-wise, she seemed somewhere around the early twenties. Her dress of choice was a green dress that cascaded down to her heels of the same color. A shoulder-cut dress that accentuated her milky white skin color. Her green ruby earrings also made her very attractive.', \"Narrator: It took a few seconds of stepping out of the car to properly analyze the girl standing in front of him for Wei Jun. He could also guess she was angry. But what he wanted to know the most was, 'Who is she?'\", 'System: [That is one of the heroines of the first novel, host]', 'System: [Also your sister]', \"Narrator: 'I see.' From that, Wei Jun didn't need to ask for the girl's name. He knew exactly who she was. Lin Ruan, a primary heroine in the novel and the adoptive sister of the previous holder of Wei Jun's body.\", 'Lin Ruan: How could you be so late? You were supposed to be here by five. You should have been here in the morning.', \"Narrator: Wei Jun didn't reply. He kept staring at her for a while before he replied,\", 'Wei Jun: I was busy picking up a suitable gift for Mother.', \"Narrator: Contrary to that, during the brief stare, Wei Jun was thinking something else entirely, 'She isn't my mother so why should I?'\", \"System: [Wouldn't it be better to just blend in?]\", 'System: [Lesser headaches that way]', \"Narrator: 'You're right.' He replied before he asked, 'Anyway, what should I do about her? If she is a heroine, then she's an enemy. Do I need to kill her?'\", 'System: [Not necessarily]', 'System: [In fact, this could be an opportunity]', 'System: [Since Lin Ruan is a very crucial point of Run Long, making her your ally instead would deal a massive blow to Run Long]', \"Narrator: 'In other words, this girl is an opportunity I need to take away from Run Long?' Wei Jun surmised the explanation.\", 'System: [Yes]', \"Narrator: 'Then does that mean, every heroine and friend of the protagonist is also an opportunity? And not just items and manuals?' He asked as he purchased something from the shop and then lied about the gift thing.\", 'System: [Precisely]', \"Narrator: 'I see.'\", \"Lin Ruan: Don't let it happen again. Can you imagine if the guests had arrived before you did, how embarrassing would it be?\", 'Wei Jun: I truly apologize, sister. I will make sure to make up for it.', \"Narrator: Lin Ruan was taken aback by Wei Jun's answer. She was expecting Wei Jun to push the blame to someone else or say something mean. Apologizing and doing that so nicely was the last thing--- No, it was something she hadn't even considered from her brother.\", 'Lin Ruan: I... Ah... Okay.', 'Narrator: She stuttered as she failed to form a proper reply. Wei Jun walked past her and entered the luxurious mansion. Just as he entered, the shine from the various decorative lights and the chandelier overtook him. He observed his surroundings as various servants moved at the directives of their superiors to prepare various delicacies to enjoy during the banquet.', 'Lin Ruan: Come on, Mother is waiting for you.', 'Narrator: Lin Ruan said as he was still taking everything in. Wei Jun nodded and followed Lin Ruan through the mansion. After walking for about ten minutes, they finally arrived outside a room.', 'Narrator: Many servants were standing outside that room, looking increasingly worried.', 'Wei Jun: What is happening?', 'Narrator: Wei Jun asked as he saw the atmosphere was far from celebratory.', \"Lin Ruan: You shouldn't concern yourself with these things.\", 'Narrator: Lin Ruan curtly replied before she moved ahead. The servants made way for her to access the door and after a slight knock, she said,', \"Lin Ruan: Mother, please don't spoil your mood on such a festive occasion. Look, even Xiao Wei is here now.\", 'Narrator: After a few seconds, the door opened and a woman with a red face came out. Not only her face, but even her eyes were swollen and they were red that Wei Jun suspected were from crying.', \"Narrator: He wondered what would have happened before the woman who appeared from the door whom he could barely assess, jumped at him with such a speed that he couldn't follow her movements with his pathetic agility.\", 'Narrator: Still, he prepared himself but before he could, he was already in the warm embrace of a woman who was crying nonstop.', 'Mother: Xiao Wei. What has happened? Look what they did.', \"Narrator: The woman who had taken Wei Jun by surprise started rambling incoherently. Many of her words didn't make any sense but from the looks of it, she seemed to be relaying important information but Wei Jun couldn't understand.\", 'Narrator: He turned to look at his new sister who also seemed down after seeing their mother like this.', 'Wei Jun: What happened?', \"Narrator: This time, Wei Jun didn't ask out of curiosity but there was authority in his voice.\"]\n"
          ]
        }
      ]
    },
    {
      "cell_type": "code",
      "source": [
        "text_voice_pairs = []\n",
        "\n",
        "for item in a:\n",
        "    # Split each entry into character and dialogue\n",
        "    if ':' in item:\n",
        "        char, dialogue = item.split(':', 1)\n",
        "        char = char.strip()  # Remove any extra whitespace\n",
        "        dialogue = dialogue.strip()  # Remove any extra whitespace\n",
        "\n",
        "        # Find the voice ID for the character from the character_voice_list\n",
        "        voice_id = next((voice for c, _, voice in character_voice_list if c == char), None)\n",
        "\n",
        "        if voice_id:  # Ensure the voice ID exists for the character\n",
        "            text_voice_pairs.append((dialogue, voice_id))\n",
        "\n",
        "# The result is already a Python list\n",
        "print(text_voice_pairs)\n"
      ],
      "metadata": {
        "colab": {
          "base_uri": "https://localhost:8080/",
          "height": 0
        },
        "id": "2L2iXwQNpKzi",
        "outputId": "9bf4c018-829c-4ad7-e72f-87cfe69bd35e"
      },
      "execution_count": 276,
      "outputs": [
        {
          "output_type": "stream",
          "name": "stdout",
          "text": [
            "[(\"'I must say, I look dashing.' Wei Jun commented as he examined himself in the mirror while dressed in a tuxedo. It was a normal tuxedo with nothing special except for the studs yet it looked better on Wei Jun than it did on anyone else.\", 'JBFqnCBsd6RMkjVDRZzb'), (\"Let's go.\", 'N2lVS1w4EtoT3dr4eOWO'), (\"Wei Jun came out of his room and ordered Chen Xian who had been waiting outside Wei Jun's room for a while now. It was six in the evening and the banquet would start at eight. The son of the birthday woman was already very late.\", 'JBFqnCBsd6RMkjVDRZzb'), (\"The car left the villa of Young Ruan and after a drive of twenty minutes, it entered the premises of a mansion five times the size of Young Ruan's villa.\", 'JBFqnCBsd6RMkjVDRZzb'), (\"'It's adequate at best in size.' But for a person like Wei Jun or the real one possessing the body, the mansion in front of him wasn't very big.\", 'JBFqnCBsd6RMkjVDRZzb'), ('The car soon stopped in front of a main door. A girl with brown hair and brown eyes was standing at the main door wearing a displeased look. That girl was the incarnation of beauty itself. Sharp nose coupled with a smooth face and rosy lips. Her eyes would drown anyone in them if she stared at someone with them.', 'JBFqnCBsd6RMkjVDRZzb'), ('She was about five feet tall in height and age-wise, she seemed somewhere around the early twenties. Her dress of choice was a green dress that cascaded down to her heels of the same color. A shoulder-cut dress that accentuated her milky white skin color. Her green ruby earrings also made her very attractive.', 'JBFqnCBsd6RMkjVDRZzb'), (\"It took a few seconds of stepping out of the car to properly analyze the girl standing in front of him for Wei Jun. He could also guess she was angry. But what he wanted to know the most was, 'Who is she?'\", 'JBFqnCBsd6RMkjVDRZzb'), (\"'I see.' From that, Wei Jun didn't need to ask for the girl's name. He knew exactly who she was. Lin Ruan, a primary heroine in the novel and the adoptive sister of the previous holder of Wei Jun's body.\", 'JBFqnCBsd6RMkjVDRZzb'), ('How could you be so late? You were supposed to be here by five. You should have been here in the morning.', 'XB0fDUnXU5powFXDhCwa'), (\"Wei Jun didn't reply. He kept staring at her for a while before he replied,\", 'JBFqnCBsd6RMkjVDRZzb'), ('I was busy picking up a suitable gift for Mother.', 'N2lVS1w4EtoT3dr4eOWO'), (\"Contrary to that, during the brief stare, Wei Jun was thinking something else entirely, 'She isn't my mother so why should I?'\", 'JBFqnCBsd6RMkjVDRZzb'), (\"'You're right.' He replied before he asked, 'Anyway, what should I do about her? If she is a heroine, then she's an enemy. Do I need to kill her?'\", 'JBFqnCBsd6RMkjVDRZzb'), (\"'In other words, this girl is an opportunity I need to take away from Run Long?' Wei Jun surmised the explanation.\", 'JBFqnCBsd6RMkjVDRZzb'), (\"'Then does that mean, every heroine and friend of the protagonist is also an opportunity? And not just items and manuals?' He asked as he purchased something from the shop and then lied about the gift thing.\", 'JBFqnCBsd6RMkjVDRZzb'), (\"'I see.'\", 'JBFqnCBsd6RMkjVDRZzb'), (\"Don't let it happen again. Can you imagine if the guests had arrived before you did, how embarrassing would it be?\", 'XB0fDUnXU5powFXDhCwa'), ('I truly apologize, sister. I will make sure to make up for it.', 'N2lVS1w4EtoT3dr4eOWO'), (\"Lin Ruan was taken aback by Wei Jun's answer. She was expecting Wei Jun to push the blame to someone else or say something mean. Apologizing and doing that so nicely was the last thing--- No, it was something she hadn't even considered from her brother.\", 'JBFqnCBsd6RMkjVDRZzb'), ('I... Ah... Okay.', 'XB0fDUnXU5powFXDhCwa'), ('She stuttered as she failed to form a proper reply. Wei Jun walked past her and entered the luxurious mansion. Just as he entered, the shine from the various decorative lights and the chandelier overtook him. He observed his surroundings as various servants moved at the directives of their superiors to prepare various delicacies to enjoy during the banquet.', 'JBFqnCBsd6RMkjVDRZzb'), ('Come on, Mother is waiting for you.', 'XB0fDUnXU5powFXDhCwa'), ('Lin Ruan said as he was still taking everything in. Wei Jun nodded and followed Lin Ruan through the mansion. After walking for about ten minutes, they finally arrived outside a room.', 'JBFqnCBsd6RMkjVDRZzb'), ('Many servants were standing outside that room, looking increasingly worried.', 'JBFqnCBsd6RMkjVDRZzb'), ('What is happening?', 'N2lVS1w4EtoT3dr4eOWO'), ('Wei Jun asked as he saw the atmosphere was far from celebratory.', 'JBFqnCBsd6RMkjVDRZzb'), (\"You shouldn't concern yourself with these things.\", 'XB0fDUnXU5powFXDhCwa'), ('Lin Ruan curtly replied before she moved ahead. The servants made way for her to access the door and after a slight knock, she said,', 'JBFqnCBsd6RMkjVDRZzb'), (\"Mother, please don't spoil your mood on such a festive occasion. Look, even Xiao Wei is here now.\", 'XB0fDUnXU5powFXDhCwa'), ('After a few seconds, the door opened and a woman with a red face came out. Not only her face, but even her eyes were swollen and they were red that Wei Jun suspected were from crying.', 'JBFqnCBsd6RMkjVDRZzb'), (\"He wondered what would have happened before the woman who appeared from the door whom he could barely assess, jumped at him with such a speed that he couldn't follow her movements with his pathetic agility.\", 'JBFqnCBsd6RMkjVDRZzb'), ('Still, he prepared himself but before he could, he was already in the warm embrace of a woman who was crying nonstop.', 'JBFqnCBsd6RMkjVDRZzb'), ('Xiao Wei. What has happened? Look what they did.', '9BWtsMINqrJLrRacOk9x'), (\"The woman who had taken Wei Jun by surprise started rambling incoherently. Many of her words didn't make any sense but from the looks of it, she seemed to be relaying important information but Wei Jun couldn't understand.\", 'JBFqnCBsd6RMkjVDRZzb'), ('He turned to look at his new sister who also seemed down after seeing their mother like this.', 'JBFqnCBsd6RMkjVDRZzb'), ('What happened?', 'N2lVS1w4EtoT3dr4eOWO'), (\"This time, Wei Jun didn't ask out of curiosity but there was authority in his voice.\", 'JBFqnCBsd6RMkjVDRZzb')]\n"
          ]
        }
      ]
    },
    {
      "cell_type": "code",
      "source": [
        "! ELEVENLABS_API_KEY=sk_a2e879e93761e5f4f8b3959ecbbbeab2e8c30a7442fa086b\n"
      ],
      "metadata": {
        "id": "xBixst6_4HmV"
      },
      "execution_count": 277,
      "outputs": []
    },
    {
      "cell_type": "code",
      "source": [
        "%env xi-api-key=ELEVENLABS_API_KEY"
      ],
      "metadata": {
        "colab": {
          "base_uri": "https://localhost:8080/",
          "height": 0
        },
        "id": "LawOWCpiIlcu",
        "outputId": "4d77a6ff-ff48-4bd6-e1ff-d9148c2c9b7d"
      },
      "execution_count": 278,
      "outputs": [
        {
          "output_type": "stream",
          "name": "stdout",
          "text": [
            "env: xi-api-key=ELEVENLABS_API_KEY\n"
          ]
        }
      ]
    },
    {
      "cell_type": "code",
      "source": [
        "!pip install pydub"
      ],
      "metadata": {
        "colab": {
          "base_uri": "https://localhost:8080/",
          "height": 0
        },
        "id": "uF9cB_YFInYm",
        "outputId": "0ac98fd6-0e59-4de1-d753-1b28a9ac5877"
      },
      "execution_count": 279,
      "outputs": [
        {
          "output_type": "stream",
          "name": "stdout",
          "text": [
            "Requirement already satisfied: pydub in /usr/local/lib/python3.11/dist-packages (0.25.1)\n"
          ]
        }
      ]
    },
    {
      "cell_type": "code",
      "source": [
        "import requests\n",
        "import json\n",
        "import os\n",
        "from pydub import AudioSegment\n",
        "\n",
        "# Insert your 11Labs API key here\n",
        "API_KEY = \"sk_a2e879e93761e5f4f8b3959ecbbbeab2e8c30a7442fa086b\"\n",
        "\n",
        "def text_to_speech(text, voice_id, output_path, index):\n",
        "    url = f\"https://api.elevenlabs.io/v1/text-to-speech/{voice_id}\"\n",
        "\n",
        "    headers = {\n",
        "        \"Content-Type\": \"application/json\",\n",
        "        \"xi-api-key\": API_KEY\n",
        "    }\n",
        "\n",
        "    data = {\n",
        "        \"text\": text,\n",
        "        \"model_id\": \"eleven_multilingual_v2\",\n",
        "        \"voice_settings\": {\n",
        "            \"stability\": 0.5,\n",
        "            \"similarity_boost\": 0.8\n",
        "        }\n",
        "    }\n",
        "\n",
        "    response = requests.post(url, headers=headers, data=json.dumps(data))\n",
        "\n",
        "    if response.status_code == 200:\n",
        "        os.makedirs(output_path, exist_ok=True)\n",
        "        file_name = os.path.join(output_path, f\"audio_{index + 1}.mp3\")\n",
        "        with open(file_name, \"wb\") as audio_file:\n",
        "            audio_file.write(response.content)\n",
        "        print(f\"Audio saved as {file_name}\")\n",
        "    else:\n",
        "        print(f\"Error: {response.status_code}, {response.text}\")\n",
        "\n",
        "def generate_audio(text_voice_pairs, output_path):\n",
        "    for index, (text, voice_id) in enumerate(text_voice_pairs):\n",
        "        text_to_speech(text, voice_id, output_path, index)\n",
        "\n",
        "def merge_audio_files(output_path, merged_file_path, delay_ms=1000):\n",
        "    audio_files = sorted([f for f in os.listdir(output_path) if f.endswith(\".mp3\")])\n",
        "    combined = AudioSegment.empty()\n",
        "    previous_voice_id = None\n",
        "\n",
        "    for index, file in enumerate(audio_files):\n",
        "        audio = AudioSegment.from_mp3(os.path.join(output_path, file))\n",
        "        combined += audio\n",
        "\n",
        "        # Add delay between different audio files\n",
        "        if index < len(audio_files) - 1:\n",
        "            combined += AudioSegment.silent(duration=delay_ms)\n",
        "\n",
        "    combined.export(merged_file_path, format=\"mp3\")\n",
        "    print(f\"Merged audio saved as {merged_file_path}\")\n",
        "\n",
        "# Example usage\n",
        "\n",
        "output_directory = \"/content/audio_FILES\"\n",
        "merged_audio_path = \"/content/final_voice.mp3\"\n",
        "\n",
        "# Generate audio sequentially\n",
        "generate_audio(text_voice_pairs, output_directory)\n",
        "\n",
        "# Merge audio files\n",
        "\n"
      ],
      "metadata": {
        "colab": {
          "base_uri": "https://localhost:8080/",
          "height": 0
        },
        "id": "GN3BsNt8IsHZ",
        "outputId": "0fc70fba-5efd-4345-d7e0-29187c153afd"
      },
      "execution_count": 280,
      "outputs": [
        {
          "output_type": "stream",
          "name": "stdout",
          "text": [
            "Audio saved as /content/audio_FILES/audio_1.mp3\n",
            "Audio saved as /content/audio_FILES/audio_2.mp3\n",
            "Audio saved as /content/audio_FILES/audio_3.mp3\n",
            "Audio saved as /content/audio_FILES/audio_4.mp3\n",
            "Audio saved as /content/audio_FILES/audio_5.mp3\n",
            "Audio saved as /content/audio_FILES/audio_6.mp3\n",
            "Audio saved as /content/audio_FILES/audio_7.mp3\n",
            "Audio saved as /content/audio_FILES/audio_8.mp3\n",
            "Audio saved as /content/audio_FILES/audio_9.mp3\n",
            "Audio saved as /content/audio_FILES/audio_10.mp3\n",
            "Audio saved as /content/audio_FILES/audio_11.mp3\n",
            "Audio saved as /content/audio_FILES/audio_12.mp3\n",
            "Audio saved as /content/audio_FILES/audio_13.mp3\n",
            "Audio saved as /content/audio_FILES/audio_14.mp3\n",
            "Audio saved as /content/audio_FILES/audio_15.mp3\n",
            "Audio saved as /content/audio_FILES/audio_16.mp3\n",
            "Audio saved as /content/audio_FILES/audio_17.mp3\n",
            "Audio saved as /content/audio_FILES/audio_18.mp3\n",
            "Audio saved as /content/audio_FILES/audio_19.mp3\n",
            "Audio saved as /content/audio_FILES/audio_20.mp3\n",
            "Audio saved as /content/audio_FILES/audio_21.mp3\n",
            "Audio saved as /content/audio_FILES/audio_22.mp3\n",
            "Audio saved as /content/audio_FILES/audio_23.mp3\n",
            "Audio saved as /content/audio_FILES/audio_24.mp3\n",
            "Audio saved as /content/audio_FILES/audio_25.mp3\n",
            "Audio saved as /content/audio_FILES/audio_26.mp3\n",
            "Audio saved as /content/audio_FILES/audio_27.mp3\n",
            "Audio saved as /content/audio_FILES/audio_28.mp3\n",
            "Audio saved as /content/audio_FILES/audio_29.mp3\n",
            "Error: 401, {\"detail\":{\"status\":\"quota_exceeded\",\"message\":\"This request exceeds your  quota of 10000. You have 92 credits remaining, while 97 credits are required for this request.\"}}\n",
            "Error: 401, {\"detail\":{\"status\":\"quota_exceeded\",\"message\":\"This request exceeds your  quota of 10000. You have 92 credits remaining, while 183 credits are required for this request.\"}}\n",
            "Error: 401, {\"detail\":{\"status\":\"quota_exceeded\",\"message\":\"This request exceeds your  quota of 10000. You have 92 credits remaining, while 206 credits are required for this request.\"}}\n",
            "Error: 401, {\"detail\":{\"status\":\"quota_exceeded\",\"message\":\"This request exceeds your  quota of 10000. You have 92 credits remaining, while 117 credits are required for this request.\"}}\n",
            "Audio saved as /content/audio_FILES/audio_34.mp3\n",
            "Error: 401, {\"detail\":{\"status\":\"quota_exceeded\",\"message\":\"This request exceeds your  quota of 10000. You have 44 credits remaining, while 221 credits are required for this request.\"}}\n",
            "Error: 401, {\"detail\":{\"status\":\"quota_exceeded\",\"message\":\"This request exceeds your  quota of 10000. You have 44 credits remaining, while 93 credits are required for this request.\"}}\n",
            "Audio saved as /content/audio_FILES/audio_37.mp3\n",
            "Error: 401, {\"detail\":{\"status\":\"quota_exceeded\",\"message\":\"This request exceeds your  quota of 10000. You have 30 credits remaining, while 84 credits are required for this request.\"}}\n"
          ]
        }
      ]
    },
    {
      "cell_type": "code",
      "source": [
        "output_directory = \"/content/audio_FILES\"\n",
        "merged_audio_path = \"/content/final_voice/audio.mp3\""
      ],
      "metadata": {
        "id": "82s3Nz6cPJuc"
      },
      "execution_count": 281,
      "outputs": []
    },
    {
      "cell_type": "code",
      "source": [
        "merge_audio_files(output_directory, merged_audio_path,delay_ms=500)"
      ],
      "metadata": {
        "colab": {
          "base_uri": "https://localhost:8080/",
          "height": 0
        },
        "id": "eajhv-kfKwXD",
        "outputId": "aef7bc91-8066-4be1-c2f0-35f395e56218"
      },
      "execution_count": 282,
      "outputs": [
        {
          "output_type": "stream",
          "name": "stdout",
          "text": [
            "Merged audio saved as /content/final_voice/audio.mp3\n"
          ]
        }
      ]
    }
  ],
  "metadata": {
    "colab": {
      "provenance": []
    },
    "kernelspec": {
      "display_name": "Python 3",
      "name": "python3"
    },
    "language_info": {
      "name": "python"
    }
  },
  "nbformat": 4,
  "nbformat_minor": 0
}